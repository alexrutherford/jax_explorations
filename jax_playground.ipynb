{
 "cells": [
  {
   "cell_type": "code",
   "execution_count": 285,
   "id": "43675278-c634-451c-9038-86925b186ffe",
   "metadata": {},
   "outputs": [],
   "source": [
    "import jax.numpy as jnp\n",
    "from jax import grad, jit, vmap\n",
    "from jax import random\n",
    "\n",
    "import matplotlib.pyplot as plt\n",
    "import matplotlib.colors as colors\n",
    "\n",
    "%matplotlib inline"
   ]
  },
  {
   "cell_type": "code",
   "execution_count": 2,
   "id": "40c918f3-16d0-47b4-90a6-e6623d38a342",
   "metadata": {},
   "outputs": [
    {
     "name": "stderr",
     "output_type": "stream",
     "text": [
      "WARNING:absl:No GPU/TPU found, falling back to CPU. (Set TF_CPP_MIN_LOG_LEVEL=0 and rerun for more info.)\n"
     ]
    },
    {
     "name": "stdout",
     "output_type": "stream",
     "text": [
      "[0.25       0.19661197 0.10499357]\n"
     ]
    }
   ],
   "source": [
    "def sum_logistic(x):\n",
    "    return jnp.sum(1.0 / (1.0 + jnp.exp(-x)))\n",
    "\n",
    "x_small = jnp.arange(3.)\n",
    "derivative_fn = grad(sum_logistic)\n",
    "print(derivative_fn(x_small))"
   ]
  },
  {
   "cell_type": "code",
   "execution_count": 3,
   "id": "a34a4268-0f96-4743-89d6-aad014a3518e",
   "metadata": {},
   "outputs": [],
   "source": [
    "def poly(x,y):\n",
    "    return jnp.sum(x*x + x*y + x*x*y)"
   ]
  },
  {
   "cell_type": "code",
   "execution_count": 4,
   "id": "6348c646-4bfe-40c4-ac41-dad0231397d3",
   "metadata": {},
   "outputs": [],
   "source": [
    "x = jnp.arange(-5,5,dtype = float)\n",
    "y = jnp.arange(-5,5,dtype = float)"
   ]
  },
  {
   "cell_type": "code",
   "execution_count": 5,
   "id": "2d8c6e04-775b-408d-a2b4-e45dc60699d6",
   "metadata": {},
   "outputs": [],
   "source": [
    "derivative_poly = grad(poly)"
   ]
  },
  {
   "cell_type": "code",
   "execution_count": 6,
   "id": "87a8af54-7137-4162-82c6-107204588729",
   "metadata": {},
   "outputs": [
    {
     "data": {
      "text/plain": [
       "DeviceArray([35., 20.,  9.,  2., -1.,  0.,  5., 14., 27., 44.], dtype=float32)"
      ]
     },
     "execution_count": 6,
     "metadata": {},
     "output_type": "execute_result"
    }
   ],
   "source": [
    "derivative_poly(x,y)"
   ]
  },
  {
   "cell_type": "markdown",
   "id": "81941e40-26da-4804-bfd2-0cee9859b139",
   "metadata": {},
   "source": [
    "## Some scikit-learn blobs"
   ]
  },
  {
   "cell_type": "code",
   "execution_count": 7,
   "id": "bac495c7-5001-4b58-9f92-f99a6c8d6f5f",
   "metadata": {},
   "outputs": [],
   "source": [
    "from sklearn.datasets import make_blobs"
   ]
  },
  {
   "cell_type": "code",
   "execution_count": 8,
   "id": "0ad5fe05-23d1-4e0f-a5b4-a1253e1ffc25",
   "metadata": {},
   "outputs": [],
   "source": [
    "X, y = make_blobs(n_samples=100, centers=2, n_features=2,random_state=0,cluster_std=0.25)"
   ]
  },
  {
   "cell_type": "code",
   "execution_count": 15,
   "id": "c18fbef0-f614-4323-909d-654d67db346e",
   "metadata": {},
   "outputs": [
    {
     "data": {
      "text/plain": [
       "(100, 2)"
      ]
     },
     "execution_count": 15,
     "metadata": {},
     "output_type": "execute_result"
    }
   ],
   "source": [
    "X.shape"
   ]
  },
  {
   "cell_type": "code",
   "execution_count": 16,
   "id": "40e81044-4dc0-433f-9474-cf87f991306c",
   "metadata": {},
   "outputs": [
    {
     "data": {
      "text/plain": [
       "(100,)"
      ]
     },
     "execution_count": 16,
     "metadata": {},
     "output_type": "execute_result"
    }
   ],
   "source": [
    "y.shape"
   ]
  },
  {
   "cell_type": "code",
   "execution_count": 17,
   "id": "03175499-2e68-46a3-b3af-86e063178444",
   "metadata": {},
   "outputs": [
    {
     "data": {
      "text/plain": [
       "array([1, 1, 0, 0, 1, 0, 0, 1, 0, 1, 0, 1, 0, 0, 1, 1, 1, 0, 1, 1, 0, 0,\n",
       "       1, 0, 1, 0, 1, 0, 0, 1, 1, 0, 1, 1, 1, 0, 1, 1, 0, 1, 0, 0, 0, 0,\n",
       "       1, 1, 1, 1, 0, 0, 1, 1, 0, 0, 0, 0, 0, 1, 1, 1, 1, 0, 0, 1, 0, 1,\n",
       "       0, 0, 1, 0, 0, 1, 1, 0, 0, 0, 1, 1, 0, 0, 1, 0, 0, 0, 0, 0, 1, 0,\n",
       "       1, 1, 1, 1, 1, 1, 0, 0, 1, 1, 0, 1])"
      ]
     },
     "execution_count": 17,
     "metadata": {},
     "output_type": "execute_result"
    }
   ],
   "source": [
    "y"
   ]
  },
  {
   "cell_type": "code",
   "execution_count": 9,
   "id": "b6d541b6-f500-463f-ac1c-67aacba1cff0",
   "metadata": {},
   "outputs": [
    {
     "data": {
      "text/plain": [
       "[<matplotlib.lines.Line2D at 0x7f8dd38d7cd0>]"
      ]
     },
     "execution_count": 9,
     "metadata": {},
     "output_type": "execute_result"
    },
    {
     "data": {
      "image/png": "[encoded data removed]",
      "text/plain": [
       "<Figure size 432x288 with 1 Axes>"
      ]
     },
     "metadata": {
      "needs_background": "light"
     },
     "output_type": "display_data"
    }
   ],
   "source": [
    "plt.plot(X[:,0],X[:,1],'.')"
   ]
  },
  {
   "cell_type": "code",
   "execution_count": 47,
   "id": "67ab0637-5ee0-4a3e-a034-98ac3a524cd9",
   "metadata": {},
   "outputs": [],
   "source": [
    "def blobLoss(centroidX,centroidY):\n",
    "    \n",
    "    return jnp.sum(jnp.sqrt(jnp.add(jnp.square(jnp.subtract(X[:,[0]], centroidX)), jnp.square(jnp.subtract(X[:,[1]], centroidY)))))"
   ]
  },
  {
   "cell_type": "code",
   "execution_count": null,
   "id": "dfee4cd5-8dd7-4573-b8c5-a2444a41a7b6",
   "metadata": {},
   "outputs": [],
   "source": [
    "jnp.add"
   ]
  },
  {
   "cell_type": "code",
   "execution_count": 11,
   "id": "02a82eca-2da3-4504-9068-231470c70800",
   "metadata": {},
   "outputs": [
    {
     "data": {
      "text/plain": [
       "(1, 2)"
      ]
     },
     "execution_count": 11,
     "metadata": {},
     "output_type": "execute_result"
    }
   ],
   "source": [
    "jnp.asarray([[1,2]]).shape"
   ]
  },
  {
   "cell_type": "code",
   "execution_count": 24,
   "id": "66f13f3d-40c9-48de-a18f-c0430ed094ab",
   "metadata": {},
   "outputs": [
    {
     "data": {
      "text/plain": [
       "(100, 1)"
      ]
     },
     "execution_count": 24,
     "metadata": {},
     "output_type": "execute_result"
    }
   ],
   "source": [
    "X[:,[1]].shape"
   ]
  },
  {
   "cell_type": "code",
   "execution_count": 26,
   "id": "d19c737d-0c73-408a-a827-937f2823556e",
   "metadata": {},
   "outputs": [
    {
     "data": {
      "text/plain": [
       "(2, 1)"
      ]
     },
     "execution_count": 26,
     "metadata": {},
     "output_type": "execute_result"
    }
   ],
   "source": [
    "jnp.transpose(jnp.asarray([[0.1,0.2]])).shape"
   ]
  },
  {
   "cell_type": "code",
   "execution_count": 28,
   "id": "ebb8266f-0f8e-4d0f-ab4e-12db94bd58e8",
   "metadata": {
    "collapsed": true,
    "jupyter": {
     "outputs_hidden": true
    },
    "tags": []
   },
   "outputs": [
    {
     "data": {
      "text/plain": [
       "DeviceArray([[1.1317956 , 1.0317956 ],\n",
       "             [0.68820864, 0.5882087 ],\n",
       "             [4.39816   , 4.29816   ],\n",
       "             [3.7085884 , 3.6085882 ],\n",
       "             [0.8768993 , 0.77689934],\n",
       "             [3.8197265 , 3.7197263 ],\n",
       "             [4.1569915 , 4.0569916 ],\n",
       "             [1.1677923 , 1.0677923 ],\n",
       "             [4.1282115 , 4.0282116 ],\n",
       "             [0.6252762 , 0.52527624],\n",
       "             [4.2428746 , 4.1428747 ],\n",
       "             [0.73781884, 0.6378189 ],\n",
       "             [4.447947  , 4.347947  ],\n",
       "             [4.216774  , 4.116774  ],\n",
       "             [0.9982778 , 0.8982778 ],\n",
       "             [1.0337836 , 0.9337836 ],\n",
       "             [0.52768075, 0.4276808 ],\n",
       "             [4.113899  , 4.0138993 ],\n",
       "             [0.6822675 , 0.5822675 ],\n",
       "             [0.9324759 , 0.83247596],\n",
       "             [4.298328  , 4.198328  ],\n",
       "             [4.2178288 , 4.117829  ],\n",
       "             [1.1834173 , 1.0834173 ],\n",
       "             [4.428994  , 4.3289943 ],\n",
       "             [0.7547771 , 0.6547771 ],\n",
       "             [4.306437  , 4.206437  ],\n",
       "             [0.591054  , 0.49105406],\n",
       "             [4.650255  , 4.5502553 ],\n",
       "             [4.287206  , 4.1872063 ],\n",
       "             [1.1292601 , 1.02926   ],\n",
       "             [0.52281344, 0.42281348],\n",
       "             [4.2794056 , 4.1794057 ],\n",
       "             [0.8107049 , 0.7107049 ],\n",
       "             [0.52439827, 0.4243983 ],\n",
       "             [1.2599796 , 1.1599796 ],\n",
       "             [4.1588063 , 4.0588064 ],\n",
       "             [0.80562127, 0.7056213 ],\n",
       "             [1.2259994 , 1.1259993 ],\n",
       "             [3.895081  , 3.795081  ],\n",
       "             [0.9075116 , 0.8075116 ],\n",
       "             [3.848783  , 3.7487829 ],\n",
       "             [4.571127  , 4.471127  ],\n",
       "             [4.691481  , 4.591481  ],\n",
       "             [4.0325847 , 3.9325845 ],\n",
       "             [1.283569  , 1.183569  ],\n",
       "             [0.9564215 , 0.85642153],\n",
       "             [0.50564027, 0.4056403 ],\n",
       "             [0.45392582, 0.35392582],\n",
       "             [4.319483  , 4.219483  ],\n",
       "             [4.5093985 , 4.4093986 ],\n",
       "             [0.63179404, 0.5317941 ],\n",
       "             [0.8644264 , 0.7644264 ],\n",
       "             [4.6777596 , 4.5777597 ],\n",
       "             [4.3804307 , 4.280431  ],\n",
       "             [3.840196  , 3.7401958 ],\n",
       "             [4.3042846 , 4.2042847 ],\n",
       "             [3.8668478 , 3.7668476 ],\n",
       "             [0.8020334 , 0.70203346],\n",
       "             [0.87734556, 0.7773456 ],\n",
       "             [0.39714926, 0.29714924],\n",
       "             [0.96677196, 0.866772  ],\n",
       "             [4.165948  , 4.065948  ],\n",
       "             [4.4674006 , 4.3674006 ],\n",
       "             [0.8995291 , 0.79952914],\n",
       "             [4.5673556 , 4.4673557 ],\n",
       "             [1.2800467 , 1.1800467 ],\n",
       "             [4.059075  , 3.9590747 ],\n",
       "             [3.959468  , 3.8594677 ],\n",
       "             [0.96147954, 0.8614796 ],\n",
       "             [4.018246  , 3.918246  ],\n",
       "             [3.9902635 , 3.8902633 ],\n",
       "             [0.6107999 , 0.51079994],\n",
       "             [1.0241748 , 0.92417485],\n",
       "             [4.236033  , 4.136033  ],\n",
       "             [3.7722168 , 3.6722167 ],\n",
       "             [4.113102  , 4.013102  ],\n",
       "             [0.9680623 , 0.8680623 ],\n",
       "             [1.0282153 , 0.9282153 ],\n",
       "             [4.094269  , 3.9942687 ],\n",
       "             [4.31087   , 4.2108703 ],\n",
       "             [1.2751799 , 1.1751798 ],\n",
       "             [4.103342  , 4.003342  ],\n",
       "             [4.4461365 , 4.3461366 ],\n",
       "             [4.234206  , 4.1342063 ],\n",
       "             [3.9086294 , 3.8086293 ],\n",
       "             [4.3005133 , 4.2005134 ],\n",
       "             [0.75891113, 0.65891117],\n",
       "             [4.5043826 , 4.4043827 ],\n",
       "             [0.760255  , 0.660255  ],\n",
       "             [0.74558896, 0.645589  ],\n",
       "             [1.0035397 , 0.9035397 ],\n",
       "             [0.63490725, 0.5349073 ],\n",
       "             [1.0769178 , 0.9769178 ],\n",
       "             [0.41147092, 0.31147093],\n",
       "             [4.152498  , 4.052498  ],\n",
       "             [4.3671923 , 4.2671924 ],\n",
       "             [0.24181288, 0.14181288],\n",
       "             [0.81955147, 0.7195515 ],\n",
       "             [4.1506023 , 4.0506024 ],\n",
       "             [1.0087544 , 0.9087544 ]], dtype=float32)"
      ]
     },
     "execution_count": 28,
     "metadata": {},
     "output_type": "execute_result"
    }
   ],
   "source": [
    "X[:,[1]] - jnp.asarray([[0.1,0.2]])"
   ]
  },
  {
   "cell_type": "code",
   "execution_count": 37,
   "id": "995a8a88-5c24-43a2-95ad-23a5695a4d68",
   "metadata": {},
   "outputs": [],
   "source": [
    "def blobLossBroadcast(centroidX,centroidY):\n",
    "    \n",
    "    return jnp.sum(jnp.sqrt(jnp.add(jnp.square(jnp.subtract(X[:,[0]], centroidX)), jnp.square(jnp.subtract(X[:,[1]], centroidY)))),axis = 0)"
   ]
  },
  {
   "cell_type": "code",
   "execution_count": 13,
   "id": "b81226e9-f04f-495e-b065-0473dde3209a",
   "metadata": {
    "tags": []
   },
   "outputs": [
    {
     "data": {
      "text/plain": [
       "DeviceArray([[ 0, -1],\n",
       "             [ 1,  0],\n",
       "             [ 2,  1]], dtype=int32)"
      ]
     },
     "execution_count": 13,
     "metadata": {},
     "output_type": "execute_result"
    }
   ],
   "source": [
    "jnp.subtract(jnp.transpose(jnp.asarray([[1,2,3]])),jnp.transpose(jnp.asarray([1,2])))"
   ]
  },
  {
   "cell_type": "code",
   "execution_count": 14,
   "id": "094c4143-8b3e-4cbc-a820-d112f7951f07",
   "metadata": {},
   "outputs": [
    {
     "data": {
      "text/plain": [
       "DeviceArray(226.62598, dtype=float32)"
      ]
     },
     "execution_count": 14,
     "metadata": {},
     "output_type": "execute_result"
    }
   ],
   "source": [
    "blobLoss(0.5,1.5)"
   ]
  },
  {
   "cell_type": "code",
   "execution_count": 41,
   "id": "6b734da1-4357-4bd2-ae92-94339312a55d",
   "metadata": {},
   "outputs": [
    {
     "name": "stdout",
     "output_type": "stream",
     "text": [
      "(3,)\n",
      "(3,)\n"
     ]
    },
    {
     "data": {
      "text/plain": [
       "DeviceArray([322.66986, 310.31793, 180.0839 ], dtype=float32)"
      ]
     },
     "execution_count": 41,
     "metadata": {},
     "output_type": "execute_result"
    }
   ],
   "source": [
    "trialX = jnp.asarray([0.1,0.2,1.5])\n",
    "trialY = jnp.asarray([0.1,0.2,2.0])\n",
    "\n",
    "print(trialX.shape)\n",
    "print(trialY.shape)\n",
    "\n",
    "blobLossBroadcast(trialX,trialY)"
   ]
  },
  {
   "cell_type": "code",
   "execution_count": 42,
   "id": "dbc3fa8a-b209-4b34-9c4e-c3e01190bc62",
   "metadata": {},
   "outputs": [
    {
     "data": {
      "text/plain": [
       "[<matplotlib.lines.Line2D at 0x7f8dbcdabee0>]"
      ]
     },
     "execution_count": 42,
     "metadata": {},
     "output_type": "execute_result"
    },
    {
     "data": {
      "image/png": "[encoded data removed]",
      "text/plain": [
       "<Figure size 432x288 with 1 Axes>"
      ]
     },
     "metadata": {
      "needs_background": "light"
     },
     "output_type": "display_data"
    }
   ],
   "source": [
    "plt.plot(X[:,0],X[:,1],'.')\n",
    "plt.plot(trialX,trialY,'x',color = 'green')"
   ]
  },
  {
   "cell_type": "code",
   "execution_count": null,
   "id": "e9cca511-f5a4-4f27-a92c-c835fb13fd64",
   "metadata": {},
   "outputs": [],
   "source": []
  },
  {
   "cell_type": "code",
   "execution_count": null,
   "id": "fbe492b4-6437-4540-9eb8-418f0e4bd8e9",
   "metadata": {},
   "outputs": [],
   "source": []
  },
  {
   "cell_type": "code",
   "execution_count": 45,
   "id": "5954c87f-9a83-4464-9177-f5a9949bda0f",
   "metadata": {},
   "outputs": [],
   "source": [
    "blobLossGrad = grad(blobLoss)"
   ]
  },
  {
   "cell_type": "code",
   "execution_count": 46,
   "id": "2ed63858-8088-4148-8d9a-5f6fc8763e12",
   "metadata": {
    "tags": []
   },
   "outputs": [
    {
     "ename": "TypeError",
     "evalue": "sub got incompatible shapes for broadcasting: (100,), (3,).",
     "output_type": "error",
     "traceback": [
      "\u001b[0;31m---------------------------------------------------------------------------\u001b[0m",
      "\u001b[0;31mTypeError\u001b[0m                                 Traceback (most recent call last)",
      "Input \u001b[0;32mIn [46]\u001b[0m, in \u001b[0;36m<module>\u001b[0;34m\u001b[0m\n\u001b[0;32m----> 1\u001b[0m \u001b[43mblobLossGrad\u001b[49m\u001b[43m(\u001b[49m\u001b[43mtrialX\u001b[49m\u001b[43m,\u001b[49m\u001b[43mtrialY\u001b[49m\u001b[43m)\u001b[49m\n",
      "    \u001b[0;31m[... skipping hidden 10 frame]\u001b[0m\n",
      "Input \u001b[0;32mIn [10]\u001b[0m, in \u001b[0;36mblobLoss\u001b[0;34m(centroidX, centroidY)\u001b[0m\n\u001b[1;32m      1\u001b[0m \u001b[38;5;28;01mdef\u001b[39;00m \u001b[38;5;21mblobLoss\u001b[39m(centroidX,centroidY):\n\u001b[0;32m----> 3\u001b[0m     \u001b[38;5;28;01mreturn\u001b[39;00m jnp\u001b[38;5;241m.\u001b[39msum(jnp\u001b[38;5;241m.\u001b[39msqrt(jnp\u001b[38;5;241m.\u001b[39madd(jnp\u001b[38;5;241m.\u001b[39msquare(\u001b[43mjnp\u001b[49m\u001b[38;5;241;43m.\u001b[39;49m\u001b[43msubtract\u001b[49m\u001b[43m(\u001b[49m\u001b[43mX\u001b[49m\u001b[43m[\u001b[49m\u001b[43m:\u001b[49m\u001b[43m,\u001b[49m\u001b[38;5;241;43m0\u001b[39;49m\u001b[43m]\u001b[49m\u001b[43m,\u001b[49m\u001b[43m \u001b[49m\u001b[43mcentroidX\u001b[49m\u001b[43m)\u001b[49m), jnp\u001b[38;5;241m.\u001b[39msquare(jnp\u001b[38;5;241m.\u001b[39msubtract(X[:,\u001b[38;5;241m1\u001b[39m], centroidY)))))\n",
      "    \u001b[0;31m[... skipping hidden 24 frame]\u001b[0m\n",
      "File \u001b[0;32m~/opt/miniconda3/lib/python3.9/site-packages/jax/_src/numpy/lax_numpy.py:706\u001b[0m, in \u001b[0;36m_one_to_one_binop.<locals>.<lambda>\u001b[0;34m(x1, x2)\u001b[0m\n\u001b[1;32m    704\u001b[0m   fn \u001b[38;5;241m=\u001b[39m \u001b[38;5;28;01mlambda\u001b[39;00m x1, x2: lax_fn(\u001b[38;5;241m*\u001b[39m_promote_args_inexact(numpy_fn\u001b[38;5;241m.\u001b[39m\u001b[38;5;18m__name__\u001b[39m, x1, x2))\n\u001b[1;32m    705\u001b[0m \u001b[38;5;28;01melse\u001b[39;00m:\n\u001b[0;32m--> 706\u001b[0m   fn \u001b[38;5;241m=\u001b[39m \u001b[38;5;28;01mlambda\u001b[39;00m x1, x2: \u001b[43mlax_fn\u001b[49m\u001b[43m(\u001b[49m\u001b[38;5;241;43m*\u001b[39;49m\u001b[43m_promote_args\u001b[49m\u001b[43m(\u001b[49m\u001b[43mnumpy_fn\u001b[49m\u001b[38;5;241;43m.\u001b[39;49m\u001b[38;5;18;43m__name__\u001b[39;49m\u001b[43m,\u001b[49m\u001b[43m \u001b[49m\u001b[43mx1\u001b[49m\u001b[43m,\u001b[49m\u001b[43m \u001b[49m\u001b[43mx2\u001b[49m\u001b[43m)\u001b[49m\u001b[43m)\u001b[49m\n\u001b[1;32m    707\u001b[0m fn \u001b[38;5;241m=\u001b[39m jit(fn, inline\u001b[38;5;241m=\u001b[39m\u001b[38;5;28;01mTrue\u001b[39;00m)\n\u001b[1;32m    708\u001b[0m \u001b[38;5;28;01mif\u001b[39;00m lax_doc:\n",
      "    \u001b[0;31m[... skipping hidden 11 frame]\u001b[0m\n",
      "File \u001b[0;32m~/opt/miniconda3/lib/python3.9/site-packages/jax/_src/lax/lax.py:1361\u001b[0m, in \u001b[0;36m_broadcasting_shape_rule\u001b[0;34m(name, *avals)\u001b[0m\n\u001b[1;32m   1359\u001b[0m \u001b[38;5;28;01mif\u001b[39;00m result_shape \u001b[38;5;129;01mis\u001b[39;00m \u001b[38;5;28;01mNone\u001b[39;00m:\n\u001b[1;32m   1360\u001b[0m   msg \u001b[38;5;241m=\u001b[39m \u001b[38;5;124m'\u001b[39m\u001b[38;5;132;01m{}\u001b[39;00m\u001b[38;5;124m got incompatible shapes for broadcasting: \u001b[39m\u001b[38;5;132;01m{}\u001b[39;00m\u001b[38;5;124m.\u001b[39m\u001b[38;5;124m'\u001b[39m\n\u001b[0;32m-> 1361\u001b[0m   \u001b[38;5;28;01mraise\u001b[39;00m \u001b[38;5;167;01mTypeError\u001b[39;00m(msg\u001b[38;5;241m.\u001b[39mformat(name, \u001b[38;5;124m'\u001b[39m\u001b[38;5;124m, \u001b[39m\u001b[38;5;124m'\u001b[39m\u001b[38;5;241m.\u001b[39mjoin(\u001b[38;5;28mmap\u001b[39m(\u001b[38;5;28mstr\u001b[39m, \u001b[38;5;28mmap\u001b[39m(\u001b[38;5;28mtuple\u001b[39m, shapes)))))\n\u001b[1;32m   1362\u001b[0m \u001b[38;5;28;01mreturn\u001b[39;00m result_shape\n",
      "\u001b[0;31mTypeError\u001b[0m: sub got incompatible shapes for broadcasting: (100,), (3,)."
     ]
    }
   ],
   "source": [
    "blobLossGrad(trialX,trialY)"
   ]
  },
  {
   "cell_type": "code",
   "execution_count": null,
   "id": "36f27c77-bf1c-4ede-8e64-b210b62b7987",
   "metadata": {},
   "outputs": [],
   "source": []
  },
  {
   "cell_type": "code",
   "execution_count": null,
   "id": "ed7fbe86-23b1-4f78-96fb-3484a24552ea",
   "metadata": {},
   "outputs": [],
   "source": []
  },
  {
   "cell_type": "code",
   "execution_count": 29,
   "id": "d5582b17-9fc9-491d-9eba-4822336b2ee2",
   "metadata": {},
   "outputs": [],
   "source": [
    "centroid = [0.,0.]"
   ]
  },
  {
   "cell_type": "code",
   "execution_count": 111,
   "id": "e5009a80-4149-4986-a5b6-a1de6602ddb9",
   "metadata": {},
   "outputs": [],
   "source": [
    "x = jnp.arange(0,3,0.1,dtype = float)\n",
    "y = jnp.arange(0,3,0.1,dtype = float)"
   ]
  },
  {
   "cell_type": "code",
   "execution_count": 112,
   "id": "8b2ee913-1784-4af6-a3c7-5395873d3864",
   "metadata": {},
   "outputs": [
    {
     "data": {
      "text/plain": [
       "DeviceArray([0. , 0.1, 0.2, 0.3, 0.4, 0.5, 0.6, 0.7, 0.8, 0.9, 1. , 1.1,\n",
       "             1.2, 1.3, 1.4, 1.5, 1.6, 1.7, 1.8, 1.9, 2. , 2.1, 2.2, 2.3,\n",
       "             2.4, 2.5, 2.6, 2.7, 2.8, 2.9], dtype=float32)"
      ]
     },
     "execution_count": 112,
     "metadata": {},
     "output_type": "execute_result"
    }
   ],
   "source": [
    "x"
   ]
  },
  {
   "cell_type": "code",
   "execution_count": 113,
   "id": "e3673dfa-c56a-4c7b-881f-5670f3b21dd6",
   "metadata": {},
   "outputs": [
    {
     "data": {
      "text/plain": [
       "DeviceArray([0. , 0.1, 0.2, 0.3, 0.4, 0.5, 0.6, 0.7, 0.8, 0.9, 1. , 1.1,\n",
       "             1.2, 1.3, 1.4, 1.5, 1.6, 1.7, 1.8, 1.9, 2. , 2.1, 2.2, 2.3,\n",
       "             2.4, 2.5, 2.6, 2.7, 2.8, 2.9], dtype=float32)"
      ]
     },
     "execution_count": 113,
     "metadata": {},
     "output_type": "execute_result"
    }
   ],
   "source": [
    "y"
   ]
  },
  {
   "cell_type": "markdown",
   "id": "16a7d49d-2c61-40fc-8685-d6bf45c74406",
   "metadata": {},
   "source": [
    "## Blob Loss Function Without Broadcasting"
   ]
  },
  {
   "cell_type": "code",
   "execution_count": 114,
   "id": "a5703783-b17b-4244-9ab8-5d395e7d8db8",
   "metadata": {},
   "outputs": [],
   "source": [
    "def blobLoss(centroidX,centroidY):\n",
    "    \n",
    "    diffX = jnp.subtract(X[:,[0]], centroidX)\n",
    "    diffY = jnp.subtract(X[:,[1]], centroidY)\n",
    "    \n",
    "    print(diffX.shape)\n",
    "    print(diffY.shape)\n",
    "    \n",
    "    print(centroidX.shape)\n",
    "    print(centroidY.shape)\n",
    "    \n",
    "    print(X[:,[0]].shape)\n",
    "    print(X[:,[1]].shape)\n",
    "    \n",
    "    return jnp.sum(jnp.sqrt(jnp.add(jnp.square(diffX), jnp.square(diffY))))"
   ]
  },
  {
   "cell_type": "code",
   "execution_count": 115,
   "id": "ee183ce4-21ce-424d-9325-81b58cabb74b",
   "metadata": {},
   "outputs": [],
   "source": [
    "blobLossGrad = grad(blobLoss)"
   ]
  },
  {
   "cell_type": "code",
   "execution_count": 116,
   "id": "f3198b1f-edb0-4b87-aa37-bd40c3b10b00",
   "metadata": {},
   "outputs": [
    {
     "name": "stdout",
     "output_type": "stream",
     "text": [
      "(100, 30)\n",
      "(100, 30)\n",
      "(30,)\n",
      "(30,)\n",
      "(100, 1)\n",
      "(100, 1)\n"
     ]
    }
   ],
   "source": [
    "grads = blobLossGrad(jnp.transpose(x),jnp.transpose(y))"
   ]
  },
  {
   "cell_type": "code",
   "execution_count": 121,
   "id": "a873e3d7-ebea-43eb-bd73-145c8581d13e",
   "metadata": {},
   "outputs": [
    {
     "data": {
      "text/plain": [
       "(30,)"
      ]
     },
     "execution_count": 121,
     "metadata": {},
     "output_type": "execute_result"
    }
   ],
   "source": [
    "grads.shape"
   ]
  },
  {
   "cell_type": "code",
   "execution_count": 118,
   "id": "a1238d7c-51aa-4be7-a2bc-7cfa8efb6f8c",
   "metadata": {},
   "outputs": [
    {
     "data": {
      "text/plain": [
       "[<matplotlib.lines.Line2D at 0x7f8dbe6f96a0>]"
      ]
     },
     "execution_count": 118,
     "metadata": {},
     "output_type": "execute_result"
    },
    {
     "data": {
      "image/png": "[encoded data removed]",
      "text/plain": [
       "<Figure size 432x288 with 1 Axes>"
      ]
     },
     "metadata": {
      "needs_background": "light"
     },
     "output_type": "display_data"
    }
   ],
   "source": [
    "plt.plot(X[:,0],X[:,1],'.')\n",
    "plt.plot(x,y,'x',color = 'green')\n",
    "\n",
    "plt.plot(x,grads)"
   ]
  },
  {
   "cell_type": "code",
   "execution_count": 119,
   "id": "1c1ccc54-ebe2-494c-9a39-22c18c59a4d2",
   "metadata": {},
   "outputs": [
    {
     "data": {
      "text/plain": [
       "DeviceArray(18, dtype=int32)"
      ]
     },
     "execution_count": 119,
     "metadata": {},
     "output_type": "execute_result"
    }
   ],
   "source": [
    "jnp.argmin(jnp.abs(grads))"
   ]
  },
  {
   "cell_type": "code",
   "execution_count": 120,
   "id": "d71799e8-11fb-4415-ae93-178766bc24bc",
   "metadata": {},
   "outputs": [
    {
     "data": {
      "text/plain": [
       "(DeviceArray(2.9, dtype=float32), DeviceArray(2.9, dtype=float32))"
      ]
     },
     "execution_count": 120,
     "metadata": {},
     "output_type": "execute_result"
    }
   ],
   "source": [
    "x[38],y[38]"
   ]
  },
  {
   "cell_type": "code",
   "execution_count": 260,
   "id": "6b666b02-c7d1-4fdd-84a2-d8324dc937fb",
   "metadata": {},
   "outputs": [],
   "source": [
    "def blobLossGrid(centroid):\n",
    "    \n",
    "    diffX = jnp.subtract(X[:,[0]], centroid[0])\n",
    "    diffY = jnp.subtract(X[:,[1]], centroid[1])\n",
    "    \n",
    "    #print('centroid:',centroid)\n",
    "    \n",
    "    print(diffX.shape)\n",
    "    print(diffY.shape)\n",
    "    \n",
    "    print(centroid[0].shape)\n",
    "    print(centroid[1].shape)\n",
    "    \n",
    "    print(X[:,[0]].shape)\n",
    "    print(X[:,[1]].shape)\n",
    "    \n",
    "    print(jnp.add(jnp.square(diffX), jnp.square(diffY)).shape)\n",
    "    #print('sqrt',jnp.sqrt(jnp.add(jnp.square(diffX), jnp.square(diffY))).shape)\n",
    "    \n",
    "    finalSum = jnp.sum(jnp.sqrt(jnp.add(jnp.square(diffX), jnp.square(diffY))))\n",
    "    \n",
    "    print('sum',finalSum.shape)\n",
    "    #print(finalSum)\n",
    "    \n",
    "    return finalSum"
   ]
  },
  {
   "cell_type": "code",
   "execution_count": 275,
   "id": "7db668ea-6afa-4217-95fa-323b2771b4f3",
   "metadata": {},
   "outputs": [],
   "source": [
    "xy = jnp.mgrid[0.:5.:0.1, 0.:5.:0.1].reshape(2,-1).T"
   ]
  },
  {
   "cell_type": "code",
   "execution_count": 276,
   "id": "7528ee92-cc4b-4a35-b9e7-4eb05d49343f",
   "metadata": {},
   "outputs": [],
   "source": [
    "blobLossGridGrad = vmap(grad(blobLossGrid))"
   ]
  },
  {
   "cell_type": "code",
   "execution_count": 277,
   "id": "9d5bc5bf-a417-4058-8a59-41ad2e3dacc5",
   "metadata": {
    "tags": []
   },
   "outputs": [
    {
     "name": "stdout",
     "output_type": "stream",
     "text": [
      "(100, 1)\n",
      "(100, 1)\n",
      "()\n",
      "()\n",
      "(100, 1)\n",
      "(100, 1)\n",
      "(100, 1)\n",
      "sum ()\n"
     ]
    }
   ],
   "source": [
    "grads = blobLossGridGrad(xy)"
   ]
  },
  {
   "cell_type": "code",
   "execution_count": 233,
   "id": "30d857c8-48d0-4710-a103-a892352ec92f",
   "metadata": {},
   "outputs": [
    {
     "data": {
      "text/plain": [
       "DeviceArray([[-56.100132, -69.46554 ],\n",
       "             [-57.145206, -67.53551 ],\n",
       "             [-58.14829 , -65.50505 ],\n",
       "             ...,\n",
       "             [ 59.74977 ,  12.667203],\n",
       "             [ 59.78813 ,  14.370957],\n",
       "             [ 59.90482 ,  16.111042]], dtype=float32)"
      ]
     },
     "execution_count": 233,
     "metadata": {},
     "output_type": "execute_result"
    }
   ],
   "source": [
    "grads"
   ]
  },
  {
   "cell_type": "code",
   "execution_count": 266,
   "id": "cde0bbc4-a88f-4718-be70-f2aa8a00cb77",
   "metadata": {},
   "outputs": [
    {
     "data": {
      "text/plain": [
       "DeviceArray([[0. , 0. ],\n",
       "             [0. , 0.1]], dtype=float32)"
      ]
     },
     "execution_count": 266,
     "metadata": {},
     "output_type": "execute_result"
    }
   ],
   "source": [
    "xy[0:2]"
   ]
  },
  {
   "cell_type": "code",
   "execution_count": 268,
   "id": "bd2cff84-b8bd-45b8-960a-203de877ee22",
   "metadata": {},
   "outputs": [
    {
     "name": "stdout",
     "output_type": "stream",
     "text": [
      "(100, 1)\n",
      "(100, 1)\n",
      "()\n",
      "()\n",
      "(100, 1)\n",
      "(100, 1)\n",
      "(100, 1)\n",
      "sum ()\n"
     ]
    }
   ],
   "source": [
    "grads = blobLossGridGrad(xy)"
   ]
  },
  {
   "cell_type": "code",
   "execution_count": 269,
   "id": "8c024245-6430-452c-adf3-7d363082163b",
   "metadata": {},
   "outputs": [
    {
     "data": {
      "text/plain": [
       "DeviceArray([[-56.100132, -69.46554 ],\n",
       "             [-57.145206, -67.53551 ],\n",
       "             [-58.14829 , -65.50505 ],\n",
       "             ...,\n",
       "             [ 59.74977 ,  12.667203],\n",
       "             [ 59.78813 ,  14.370957],\n",
       "             [ 59.90482 ,  16.111042]], dtype=float32)"
      ]
     },
     "execution_count": 269,
     "metadata": {},
     "output_type": "execute_result"
    }
   ],
   "source": [
    "grads"
   ]
  },
  {
   "cell_type": "code",
   "execution_count": 267,
   "id": "2a0cf1ba-83e3-48d0-b1d1-3e212eaf01dc",
   "metadata": {},
   "outputs": [
    {
     "name": "stdout",
     "output_type": "stream",
     "text": [
      "(100, 1)\n",
      "(100, 1)\n",
      "()\n",
      "()\n",
      "(100, 1)\n",
      "(100, 1)\n",
      "(100, 1)\n",
      "sum ()\n"
     ]
    },
    {
     "data": {
      "text/plain": [
       "DeviceArray(335.16217, dtype=float32)"
      ]
     },
     "execution_count": 267,
     "metadata": {},
     "output_type": "execute_result"
    }
   ],
   "source": [
    "blobLossGrid(xy[0])"
   ]
  },
  {
   "cell_type": "code",
   "execution_count": 293,
   "id": "d023a6da-43a5-4f5c-b8de-2f2104f4a62d",
   "metadata": {},
   "outputs": [
    {
     "data": {
      "text/plain": [
       "[<matplotlib.lines.Line2D at 0x7f8dc49690d0>]"
      ]
     },
     "execution_count": 293,
     "metadata": {},
     "output_type": "execute_result"
    },
    {
     "data": {
      "image/png": "[encoded data removed]",
      "text/plain": [
       "<Figure size 432x288 with 2 Axes>"
      ]
     },
     "metadata": {
      "needs_background": "light"
     },
     "output_type": "display_data"
    }
   ],
   "source": [
    "cmap = plt.cm.hot\n",
    "norm = colors.Normalize(vmin=jnp.min(grads[:,0]), vmax=jnp.max(grads[:,0]))\n",
    "plt.scatter(xy[:,0],xy[:,1], color=cmap(norm(grads[:,0])))\n",
    "sm = plt.cm.ScalarMappable(cmap=cmap, norm=norm)\n",
    "plt.colorbar(sm)\n",
    "\n",
    "plt.plot(X[:,0],X[:,1],'.')\n"
   ]
  },
  {
   "cell_type": "code",
   "execution_count": 294,
   "id": "f9dfa299-a003-4d37-8f43-52a5f6b7af60",
   "metadata": {},
   "outputs": [
    {
     "data": {
      "text/plain": [
       "[<matplotlib.lines.Line2D at 0x7f8dc4c7de50>]"
      ]
     },
     "execution_count": 294,
     "metadata": {},
     "output_type": "execute_result"
    },
    {
     "data": {
      "image/png": "[encoded data removed]",
      "text/plain": [
       "<Figure size 432x288 with 2 Axes>"
      ]
     },
     "metadata": {
      "needs_background": "light"
     },
     "output_type": "display_data"
    }
   ],
   "source": [
    "cmap = plt.cm.hot\n",
    "norm = colors.Normalize(vmin=jnp.min(grads[:,1]), vmax=jnp.max(grads[:,1]))\n",
    "plt.scatter(xy[:,0],xy[:,1], color=cmap(norm(grads[:,1])))\n",
    "sm = plt.cm.ScalarMappable(cmap=cmap, norm=norm)\n",
    "plt.colorbar(sm)\n",
    "\n",
    "plt.plot(X[:,0],X[:,1],'.')\n"
   ]
  },
  {
   "cell_type": "code",
   "execution_count": null,
   "id": "c8087d0d-f16f-4df7-8a8f-62ebfb40c65a",
   "metadata": {},
   "outputs": [],
   "source": []
  },
  {
   "cell_type": "code",
   "execution_count": 280,
   "id": "a1c97945-7997-4a07-bdd7-5120c06b7295",
   "metadata": {},
   "outputs": [
    {
     "ename": "ValueError",
     "evalue": "DeviceArray([-56.100132, -57.145206, -58.14829 , ...,  79.851326,\n              79.20886 ,  78.5485  ], dtype=float32) is not a valid value for color",
     "output_type": "error",
     "traceback": [
      "\u001b[0;31m---------------------------------------------------------------------------\u001b[0m",
      "\u001b[0;31mValueError\u001b[0m                                Traceback (most recent call last)",
      "Input \u001b[0;32mIn [280]\u001b[0m, in \u001b[0;36m<module>\u001b[0;34m\u001b[0m\n\u001b[0;32m----> 1\u001b[0m \u001b[43mplt\u001b[49m\u001b[38;5;241;43m.\u001b[39;49m\u001b[43mplot\u001b[49m\u001b[43m(\u001b[49m\u001b[43mxy\u001b[49m\u001b[43m[\u001b[49m\u001b[43m:\u001b[49m\u001b[43m,\u001b[49m\u001b[38;5;241;43m0\u001b[39;49m\u001b[43m]\u001b[49m\u001b[43m,\u001b[49m\u001b[43mxy\u001b[49m\u001b[43m[\u001b[49m\u001b[43m:\u001b[49m\u001b[43m,\u001b[49m\u001b[38;5;241;43m1\u001b[39;49m\u001b[43m]\u001b[49m\u001b[43m,\u001b[49m\u001b[38;5;124;43m'\u001b[39;49m\u001b[38;5;124;43m.\u001b[39;49m\u001b[38;5;124;43m'\u001b[39;49m\u001b[43m,\u001b[49m\u001b[43mcolor\u001b[49m\u001b[43m \u001b[49m\u001b[38;5;241;43m=\u001b[39;49m\u001b[43m \u001b[49m\u001b[43mgrads\u001b[49m\u001b[43m[\u001b[49m\u001b[43m:\u001b[49m\u001b[43m,\u001b[49m\u001b[38;5;241;43m0\u001b[39;49m\u001b[43m]\u001b[49m\u001b[43m)\u001b[49m\n",
      "File \u001b[0;32m~/opt/miniconda3/lib/python3.9/site-packages/matplotlib/pyplot.py:2757\u001b[0m, in \u001b[0;36mplot\u001b[0;34m(scalex, scaley, data, *args, **kwargs)\u001b[0m\n\u001b[1;32m   2755\u001b[0m \u001b[38;5;129m@_copy_docstring_and_deprecators\u001b[39m(Axes\u001b[38;5;241m.\u001b[39mplot)\n\u001b[1;32m   2756\u001b[0m \u001b[38;5;28;01mdef\u001b[39;00m \u001b[38;5;21mplot\u001b[39m(\u001b[38;5;241m*\u001b[39margs, scalex\u001b[38;5;241m=\u001b[39m\u001b[38;5;28;01mTrue\u001b[39;00m, scaley\u001b[38;5;241m=\u001b[39m\u001b[38;5;28;01mTrue\u001b[39;00m, data\u001b[38;5;241m=\u001b[39m\u001b[38;5;28;01mNone\u001b[39;00m, \u001b[38;5;241m*\u001b[39m\u001b[38;5;241m*\u001b[39mkwargs):\n\u001b[0;32m-> 2757\u001b[0m     \u001b[38;5;28;01mreturn\u001b[39;00m \u001b[43mgca\u001b[49m\u001b[43m(\u001b[49m\u001b[43m)\u001b[49m\u001b[38;5;241;43m.\u001b[39;49m\u001b[43mplot\u001b[49m\u001b[43m(\u001b[49m\n\u001b[1;32m   2758\u001b[0m \u001b[43m        \u001b[49m\u001b[38;5;241;43m*\u001b[39;49m\u001b[43margs\u001b[49m\u001b[43m,\u001b[49m\u001b[43m \u001b[49m\u001b[43mscalex\u001b[49m\u001b[38;5;241;43m=\u001b[39;49m\u001b[43mscalex\u001b[49m\u001b[43m,\u001b[49m\u001b[43m \u001b[49m\u001b[43mscaley\u001b[49m\u001b[38;5;241;43m=\u001b[39;49m\u001b[43mscaley\u001b[49m\u001b[43m,\u001b[49m\n\u001b[1;32m   2759\u001b[0m \u001b[43m        \u001b[49m\u001b[38;5;241;43m*\u001b[39;49m\u001b[38;5;241;43m*\u001b[39;49m\u001b[43m(\u001b[49m\u001b[43m{\u001b[49m\u001b[38;5;124;43m\"\u001b[39;49m\u001b[38;5;124;43mdata\u001b[39;49m\u001b[38;5;124;43m\"\u001b[39;49m\u001b[43m:\u001b[49m\u001b[43m \u001b[49m\u001b[43mdata\u001b[49m\u001b[43m}\u001b[49m\u001b[43m \u001b[49m\u001b[38;5;28;43;01mif\u001b[39;49;00m\u001b[43m \u001b[49m\u001b[43mdata\u001b[49m\u001b[43m \u001b[49m\u001b[38;5;129;43;01mis\u001b[39;49;00m\u001b[43m \u001b[49m\u001b[38;5;129;43;01mnot\u001b[39;49;00m\u001b[43m \u001b[49m\u001b[38;5;28;43;01mNone\u001b[39;49;00m\u001b[43m \u001b[49m\u001b[38;5;28;43;01melse\u001b[39;49;00m\u001b[43m \u001b[49m\u001b[43m{\u001b[49m\u001b[43m}\u001b[49m\u001b[43m)\u001b[49m\u001b[43m,\u001b[49m\u001b[43m \u001b[49m\u001b[38;5;241;43m*\u001b[39;49m\u001b[38;5;241;43m*\u001b[39;49m\u001b[43mkwargs\u001b[49m\u001b[43m)\u001b[49m\n",
      "File \u001b[0;32m~/opt/miniconda3/lib/python3.9/site-packages/matplotlib/axes/_axes.py:1632\u001b[0m, in \u001b[0;36mAxes.plot\u001b[0;34m(self, scalex, scaley, data, *args, **kwargs)\u001b[0m\n\u001b[1;32m   1390\u001b[0m \u001b[38;5;124;03m\"\"\"\u001b[39;00m\n\u001b[1;32m   1391\u001b[0m \u001b[38;5;124;03mPlot y versus x as lines and/or markers.\u001b[39;00m\n\u001b[1;32m   1392\u001b[0m \n\u001b[0;32m   (...)\u001b[0m\n\u001b[1;32m   1629\u001b[0m \u001b[38;5;124;03m(``'green'``) or hex strings (``'#008000'``).\u001b[39;00m\n\u001b[1;32m   1630\u001b[0m \u001b[38;5;124;03m\"\"\"\u001b[39;00m\n\u001b[1;32m   1631\u001b[0m kwargs \u001b[38;5;241m=\u001b[39m cbook\u001b[38;5;241m.\u001b[39mnormalize_kwargs(kwargs, mlines\u001b[38;5;241m.\u001b[39mLine2D)\n\u001b[0;32m-> 1632\u001b[0m lines \u001b[38;5;241m=\u001b[39m [\u001b[38;5;241m*\u001b[39m\u001b[38;5;28mself\u001b[39m\u001b[38;5;241m.\u001b[39m_get_lines(\u001b[38;5;241m*\u001b[39margs, data\u001b[38;5;241m=\u001b[39mdata, \u001b[38;5;241m*\u001b[39m\u001b[38;5;241m*\u001b[39mkwargs)]\n\u001b[1;32m   1633\u001b[0m \u001b[38;5;28;01mfor\u001b[39;00m line \u001b[38;5;129;01min\u001b[39;00m lines:\n\u001b[1;32m   1634\u001b[0m     \u001b[38;5;28mself\u001b[39m\u001b[38;5;241m.\u001b[39madd_line(line)\n",
      "File \u001b[0;32m~/opt/miniconda3/lib/python3.9/site-packages/matplotlib/axes/_base.py:312\u001b[0m, in \u001b[0;36m_process_plot_var_args.__call__\u001b[0;34m(self, data, *args, **kwargs)\u001b[0m\n\u001b[1;32m    310\u001b[0m     this \u001b[38;5;241m+\u001b[39m\u001b[38;5;241m=\u001b[39m args[\u001b[38;5;241m0\u001b[39m],\n\u001b[1;32m    311\u001b[0m     args \u001b[38;5;241m=\u001b[39m args[\u001b[38;5;241m1\u001b[39m:]\n\u001b[0;32m--> 312\u001b[0m \u001b[38;5;28;01myield from\u001b[39;00m \u001b[38;5;28;43mself\u001b[39;49m\u001b[38;5;241;43m.\u001b[39;49m\u001b[43m_plot_args\u001b[49m\u001b[43m(\u001b[49m\u001b[43mthis\u001b[49m\u001b[43m,\u001b[49m\u001b[43m \u001b[49m\u001b[43mkwargs\u001b[49m\u001b[43m)\u001b[49m\n",
      "File \u001b[0;32m~/opt/miniconda3/lib/python3.9/site-packages/matplotlib/axes/_base.py:538\u001b[0m, in \u001b[0;36m_process_plot_var_args._plot_args\u001b[0;34m(self, tup, kwargs, return_kwargs)\u001b[0m\n\u001b[1;32m    536\u001b[0m     \u001b[38;5;28;01mreturn\u001b[39;00m \u001b[38;5;28mlist\u001b[39m(result)\n\u001b[1;32m    537\u001b[0m \u001b[38;5;28;01melse\u001b[39;00m:\n\u001b[0;32m--> 538\u001b[0m     \u001b[38;5;28;01mreturn\u001b[39;00m [l[\u001b[38;5;241m0\u001b[39m] \u001b[38;5;28;01mfor\u001b[39;00m l \u001b[38;5;129;01min\u001b[39;00m result]\n",
      "File \u001b[0;32m~/opt/miniconda3/lib/python3.9/site-packages/matplotlib/axes/_base.py:538\u001b[0m, in \u001b[0;36m<listcomp>\u001b[0;34m(.0)\u001b[0m\n\u001b[1;32m    536\u001b[0m     \u001b[38;5;28;01mreturn\u001b[39;00m \u001b[38;5;28mlist\u001b[39m(result)\n\u001b[1;32m    537\u001b[0m \u001b[38;5;28;01melse\u001b[39;00m:\n\u001b[0;32m--> 538\u001b[0m     \u001b[38;5;28;01mreturn\u001b[39;00m [l[\u001b[38;5;241m0\u001b[39m] \u001b[38;5;28;01mfor\u001b[39;00m l \u001b[38;5;129;01min\u001b[39;00m result]\n",
      "File \u001b[0;32m~/opt/miniconda3/lib/python3.9/site-packages/matplotlib/axes/_base.py:531\u001b[0m, in \u001b[0;36m<genexpr>\u001b[0;34m(.0)\u001b[0m\n\u001b[1;32m    528\u001b[0m \u001b[38;5;28;01melse\u001b[39;00m:\n\u001b[1;32m    529\u001b[0m     labels \u001b[38;5;241m=\u001b[39m [label] \u001b[38;5;241m*\u001b[39m n_datasets\n\u001b[0;32m--> 531\u001b[0m result \u001b[38;5;241m=\u001b[39m (\u001b[43mmake_artist\u001b[49m\u001b[43m(\u001b[49m\u001b[43mx\u001b[49m\u001b[43m[\u001b[49m\u001b[43m:\u001b[49m\u001b[43m,\u001b[49m\u001b[43m \u001b[49m\u001b[43mj\u001b[49m\u001b[43m \u001b[49m\u001b[38;5;241;43m%\u001b[39;49m\u001b[43m \u001b[49m\u001b[43mncx\u001b[49m\u001b[43m]\u001b[49m\u001b[43m,\u001b[49m\u001b[43m \u001b[49m\u001b[43my\u001b[49m\u001b[43m[\u001b[49m\u001b[43m:\u001b[49m\u001b[43m,\u001b[49m\u001b[43m \u001b[49m\u001b[43mj\u001b[49m\u001b[43m \u001b[49m\u001b[38;5;241;43m%\u001b[39;49m\u001b[43m \u001b[49m\u001b[43mncy\u001b[49m\u001b[43m]\u001b[49m\u001b[43m,\u001b[49m\u001b[43m \u001b[49m\u001b[43mkw\u001b[49m\u001b[43m,\u001b[49m\n\u001b[1;32m    532\u001b[0m \u001b[43m                      \u001b[49m\u001b[43m{\u001b[49m\u001b[38;5;241;43m*\u001b[39;49m\u001b[38;5;241;43m*\u001b[39;49m\u001b[43mkwargs\u001b[49m\u001b[43m,\u001b[49m\u001b[43m \u001b[49m\u001b[38;5;124;43m'\u001b[39;49m\u001b[38;5;124;43mlabel\u001b[39;49m\u001b[38;5;124;43m'\u001b[39;49m\u001b[43m:\u001b[49m\u001b[43m \u001b[49m\u001b[43mlabel\u001b[49m\u001b[43m}\u001b[49m\u001b[43m)\u001b[49m\n\u001b[1;32m    533\u001b[0m           \u001b[38;5;28;01mfor\u001b[39;00m j, label \u001b[38;5;129;01min\u001b[39;00m \u001b[38;5;28menumerate\u001b[39m(labels))\n\u001b[1;32m    535\u001b[0m \u001b[38;5;28;01mif\u001b[39;00m return_kwargs:\n\u001b[1;32m    536\u001b[0m     \u001b[38;5;28;01mreturn\u001b[39;00m \u001b[38;5;28mlist\u001b[39m(result)\n",
      "File \u001b[0;32m~/opt/miniconda3/lib/python3.9/site-packages/matplotlib/axes/_base.py:351\u001b[0m, in \u001b[0;36m_process_plot_var_args._makeline\u001b[0;34m(self, x, y, kw, kwargs)\u001b[0m\n\u001b[1;32m    349\u001b[0m default_dict \u001b[38;5;241m=\u001b[39m \u001b[38;5;28mself\u001b[39m\u001b[38;5;241m.\u001b[39m_getdefaults(\u001b[38;5;28mset\u001b[39m(), kw)\n\u001b[1;32m    350\u001b[0m \u001b[38;5;28mself\u001b[39m\u001b[38;5;241m.\u001b[39m_setdefaults(default_dict, kw)\n\u001b[0;32m--> 351\u001b[0m seg \u001b[38;5;241m=\u001b[39m \u001b[43mmlines\u001b[49m\u001b[38;5;241;43m.\u001b[39;49m\u001b[43mLine2D\u001b[49m\u001b[43m(\u001b[49m\u001b[43mx\u001b[49m\u001b[43m,\u001b[49m\u001b[43m \u001b[49m\u001b[43my\u001b[49m\u001b[43m,\u001b[49m\u001b[43m \u001b[49m\u001b[38;5;241;43m*\u001b[39;49m\u001b[38;5;241;43m*\u001b[39;49m\u001b[43mkw\u001b[49m\u001b[43m)\u001b[49m\n\u001b[1;32m    352\u001b[0m \u001b[38;5;28;01mreturn\u001b[39;00m seg, kw\n",
      "File \u001b[0;32m~/opt/miniconda3/lib/python3.9/site-packages/matplotlib/lines.py:370\u001b[0m, in \u001b[0;36mLine2D.__init__\u001b[0;34m(self, xdata, ydata, linewidth, linestyle, color, marker, markersize, markeredgewidth, markeredgecolor, markerfacecolor, markerfacecoloralt, fillstyle, antialiased, dash_capstyle, solid_capstyle, dash_joinstyle, solid_joinstyle, pickradius, drawstyle, markevery, **kwargs)\u001b[0m\n\u001b[1;32m    367\u001b[0m \u001b[38;5;28mself\u001b[39m\u001b[38;5;241m.\u001b[39mset_drawstyle(drawstyle)\n\u001b[1;32m    369\u001b[0m \u001b[38;5;28mself\u001b[39m\u001b[38;5;241m.\u001b[39m_color \u001b[38;5;241m=\u001b[39m \u001b[38;5;28;01mNone\u001b[39;00m\n\u001b[0;32m--> 370\u001b[0m \u001b[38;5;28;43mself\u001b[39;49m\u001b[38;5;241;43m.\u001b[39;49m\u001b[43mset_color\u001b[49m\u001b[43m(\u001b[49m\u001b[43mcolor\u001b[49m\u001b[43m)\u001b[49m\n\u001b[1;32m    371\u001b[0m \u001b[38;5;28mself\u001b[39m\u001b[38;5;241m.\u001b[39m_marker \u001b[38;5;241m=\u001b[39m MarkerStyle(marker, fillstyle)\n\u001b[1;32m    373\u001b[0m \u001b[38;5;28mself\u001b[39m\u001b[38;5;241m.\u001b[39m_markevery \u001b[38;5;241m=\u001b[39m \u001b[38;5;28;01mNone\u001b[39;00m\n",
      "File \u001b[0;32m~/opt/miniconda3/lib/python3.9/site-packages/matplotlib/lines.py:1030\u001b[0m, in \u001b[0;36mLine2D.set_color\u001b[0;34m(self, color)\u001b[0m\n\u001b[1;32m   1022\u001b[0m \u001b[38;5;28;01mdef\u001b[39;00m \u001b[38;5;21mset_color\u001b[39m(\u001b[38;5;28mself\u001b[39m, color):\n\u001b[1;32m   1023\u001b[0m     \u001b[38;5;124;03m\"\"\"\u001b[39;00m\n\u001b[1;32m   1024\u001b[0m \u001b[38;5;124;03m    Set the color of the line.\u001b[39;00m\n\u001b[1;32m   1025\u001b[0m \n\u001b[0;32m   (...)\u001b[0m\n\u001b[1;32m   1028\u001b[0m \u001b[38;5;124;03m    color : color\u001b[39;00m\n\u001b[1;32m   1029\u001b[0m \u001b[38;5;124;03m    \"\"\"\u001b[39;00m\n\u001b[0;32m-> 1030\u001b[0m     \u001b[43mmcolors\u001b[49m\u001b[38;5;241;43m.\u001b[39;49m\u001b[43m_check_color_like\u001b[49m\u001b[43m(\u001b[49m\u001b[43mcolor\u001b[49m\u001b[38;5;241;43m=\u001b[39;49m\u001b[43mcolor\u001b[49m\u001b[43m)\u001b[49m\n\u001b[1;32m   1031\u001b[0m     \u001b[38;5;28mself\u001b[39m\u001b[38;5;241m.\u001b[39m_color \u001b[38;5;241m=\u001b[39m color\n\u001b[1;32m   1032\u001b[0m     \u001b[38;5;28mself\u001b[39m\u001b[38;5;241m.\u001b[39mstale \u001b[38;5;241m=\u001b[39m \u001b[38;5;28;01mTrue\u001b[39;00m\n",
      "File \u001b[0;32m~/opt/miniconda3/lib/python3.9/site-packages/matplotlib/colors.py:130\u001b[0m, in \u001b[0;36m_check_color_like\u001b[0;34m(**kwargs)\u001b[0m\n\u001b[1;32m    128\u001b[0m \u001b[38;5;28;01mfor\u001b[39;00m k, v \u001b[38;5;129;01min\u001b[39;00m kwargs\u001b[38;5;241m.\u001b[39mitems():\n\u001b[1;32m    129\u001b[0m     \u001b[38;5;28;01mif\u001b[39;00m \u001b[38;5;129;01mnot\u001b[39;00m is_color_like(v):\n\u001b[0;32m--> 130\u001b[0m         \u001b[38;5;28;01mraise\u001b[39;00m \u001b[38;5;167;01mValueError\u001b[39;00m(\u001b[38;5;124mf\u001b[39m\u001b[38;5;124m\"\u001b[39m\u001b[38;5;132;01m{\u001b[39;00mv\u001b[38;5;132;01m!r}\u001b[39;00m\u001b[38;5;124m is not a valid value for \u001b[39m\u001b[38;5;132;01m{\u001b[39;00mk\u001b[38;5;132;01m}\u001b[39;00m\u001b[38;5;124m\"\u001b[39m)\n",
      "\u001b[0;31mValueError\u001b[0m: DeviceArray([-56.100132, -57.145206, -58.14829 , ...,  79.851326,\n              79.20886 ,  78.5485  ], dtype=float32) is not a valid value for color"
     ]
    },
    {
     "data": {
      "image/png": "[encoded data removed]",
      "text/plain": [
       "<Figure size 432x288 with 1 Axes>"
      ]
     },
     "metadata": {
      "needs_background": "light"
     },
     "output_type": "display_data"
    }
   ],
   "source": [
    "plt.plot(xy[:,0],xy[:,1],'.',color = grads[:,0])"
   ]
  },
  {
   "cell_type": "code",
   "execution_count": null,
   "id": "4b53f546-e82d-4ef6-89ab-5b89a4630726",
   "metadata": {},
   "outputs": [],
   "source": []
  }
 ],
 "metadata": {
  "kernelspec": {
   "display_name": "Python 3 (ipykernel)",
   "language": "python",
   "name": "python3"
  },
  "language_info": {
   "codemirror_mode": {
    "name": "ipython",
    "version": 3
   },
   "file_extension": ".py",
   "mimetype": "text/x-python",
   "name": "python",
   "nbconvert_exporter": "python",
   "pygments_lexer": "ipython3",
   "version": "3.9.5"
  }
 },
 "nbformat": 4,
 "nbformat_minor": 5
}
